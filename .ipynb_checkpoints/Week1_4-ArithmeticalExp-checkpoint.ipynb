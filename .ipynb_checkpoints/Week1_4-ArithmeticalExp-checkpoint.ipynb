{
 "cells": [
  {
   "cell_type": "code",
   "execution_count": 8,
   "metadata": {},
   "outputs": [
    {
     "data": {
      "text/html": [
       "IOStream(<file style.css>)"
      ],
      "text/plain": [
       "HTML{String}(\"IOStream(<file style.css>)\")"
      ]
     },
     "execution_count": 8,
     "metadata": {},
     "output_type": "execute_result"
    }
   ],
   "source": [
    "# Setting up a custom stylesheet in IJulia\n",
    "styl = open(\"style.css\", \"r\") # A .css file in the same folder as this notebook file\n",
    "#styl = open(readall, \"style.css\") # Read the file\n",
    "HTML(\"$styl\") # Output as HTML"
   ]
  },
  {
   "cell_type": "markdown",
   "metadata": {},
   "source": [
    "<h2>In this lecture</h2>\n",
    "\n",
    "- [Outcome](#Outcome)\n",
    "- [A really simple example](#A-really-simple-example)\n",
    "- [Operator Precedence in Julia](#Operator-Precedence-in-Julia)\n"
   ]
  },
  {
   "cell_type": "markdown",
   "metadata": {},
   "source": [
    "<hr>\n",
    "<h2>Outcome</h2>\n",
    "\n",
    "After this lecture, you will be able to: \n",
    "\n",
    "- Form arithmetical expressions using numbers and operators\n",
    "- State the order of preference of Julia's elementary arithmetical operators\n",
    "- Work out exactly how Julia would evalutate an arithmetical expression"
   ]
  },
  {
   "cell_type": "markdown",
   "metadata": {},
   "source": [
    "[Back to the top](#In-this-lecture)"
   ]
  },
  {
   "cell_type": "markdown",
   "metadata": {},
   "source": [
    "<h2>A really simple example</h2>"
   ]
  },
  {
   "cell_type": "code",
   "execution_count": 9,
   "metadata": {},
   "outputs": [
    {
     "data": {
      "text/plain": [
       "-2"
      ]
     },
     "execution_count": 9,
     "metadata": {},
     "output_type": "execute_result"
    }
   ],
   "source": [
    "1 - 2 + 3 - 4"
   ]
  },
  {
   "cell_type": "code",
   "execution_count": 10,
   "metadata": {},
   "outputs": [
    {
     "data": {
      "text/plain": [
       "1.25"
      ]
     },
     "execution_count": 10,
     "metadata": {},
     "output_type": "execute_result"
    }
   ],
   "source": [
    "1 / 2 + 3 / 4"
   ]
  },
  {
   "cell_type": "code",
   "execution_count": 11,
   "metadata": {},
   "outputs": [
    {
     "data": {
      "text/plain": [
       "0.05"
      ]
     },
     "execution_count": 11,
     "metadata": {},
     "output_type": "execute_result"
    }
   ],
   "source": [
    "1 / (2 + 3) / 4"
   ]
  },
  {
   "cell_type": "code",
   "execution_count": 1,
   "metadata": {},
   "outputs": [
    {
     "data": {
      "text/plain": [
       "0.05"
      ]
     },
     "execution_count": 1,
     "metadata": {},
     "output_type": "execute_result"
    }
   ],
   "source": [
    ".2/4"
   ]
  },
  {
   "cell_type": "code",
   "execution_count": 2,
   "metadata": {},
   "outputs": [
    {
     "data": {
      "text/plain": [
       "0.36363636363636365"
      ]
     },
     "execution_count": 2,
     "metadata": {},
     "output_type": "execute_result"
    }
   ],
   "source": [
    "1 / (2 + 3 / 4)"
   ]
  },
  {
   "cell_type": "code",
   "execution_count": 6,
   "metadata": {},
   "outputs": [
    {
     "data": {
      "text/plain": [
       "0.36363636363636365"
      ]
     },
     "execution_count": 6,
     "metadata": {},
     "output_type": "execute_result"
    }
   ],
   "source": [
    "4/11"
   ]
  },
  {
   "cell_type": "code",
   "execution_count": 13,
   "metadata": {},
   "outputs": [
    {
     "data": {
      "text/plain": [
       "0.875"
      ]
     },
     "execution_count": 13,
     "metadata": {},
     "output_type": "execute_result"
    }
   ],
   "source": [
    "(1 / 2 + 3 ) / 4"
   ]
  },
  {
   "cell_type": "markdown",
   "metadata": {},
   "source": [
    "[Back to the top](#In-this-lecture)"
   ]
  },
  {
   "cell_type": "markdown",
   "metadata": {},
   "source": [
    "<h2>Operator Precedence in Julia</h2>\n",
    "\n",
    "The plus, minus, multiply and divide operators in Julia are, of course, + - / and *.\n",
    "\n",
    "When several of them occur, it can be ambiguous to the human eye, for example 1 / 2 / 3. From the left, it is a third of one half. From the right, it is one divided by two thirds. So from the left it is 1/6, and from the right it is 3/2.\n",
    "\n",
    "In Julia, though, there is only one way to read it: from the left.\n",
    "\n",
    "Likewise, from the left, 2 - 3 + 4 is 3, from the right it is -5, and in Julia it can only be 3.\n",
    "\n",
    "Similarly, 2^3/2 is read as follows: first the ^ operator makes 2^3 into 8, and then division by 2 makes it 4. To get the other possibility, you have to use parentheses, namely 2^(3/2)."
   ]
  },
  {
   "cell_type": "code",
   "execution_count": 14,
   "metadata": {},
   "outputs": [
    {
     "name": "stdout",
     "output_type": "stream",
     "text": [
      "0.16666666666666666\n",
      "3\n",
      "4.0\n",
      "2.82842712474619\n"
     ]
    }
   ],
   "source": [
    "println(1/2/3)         # remember that println can do simple arithmetic!\n",
    "println(2-3+4)\n",
    "println(2^3/2)         # although both inputs are Int64, and the output could be Int64, it is in fact Float64\n",
    "println( 2^(3/2) )     # the extra spaces inside the parenthesis help the human reader"
   ]
  },
  {
   "cell_type": "markdown",
   "metadata": {},
   "source": [
    "\n",
    "\n",
    "In Julia, as in many other languages (in particular Matlab and Python), the order of arithmetical operations is as follows:\n",
    "\n",
    "--- do the insides of parentheses first\n",
    "\n",
    "--- then do exponentiation\n",
    "\n",
    "--- then do multiplication and division, from left to right\n",
    "\n",
    "--- finally, do addition and subtraction, from left to right"
   ]
  },
  {
   "cell_type": "code",
   "execution_count": 15,
   "metadata": {},
   "outputs": [
    {
     "data": {
      "text/plain": [
       "-11.725000000000001"
      ]
     },
     "execution_count": 15,
     "metadata": {},
     "output_type": "execute_result"
    }
   ],
   "source": [
    "# Let's do some exercises in this. Predict the output of, then run these expressions\n",
    "0.2 + 0.1 - 3 * 6.7 / 4 - 1 - 2 * 3    #BAD CODE! It mixes types: some Int64, some Float64!!"
   ]
  },
  {
   "cell_type": "markdown",
   "metadata": {},
   "source": [
    "You can really go to town, Julia allows extremely long arithmetical expressions:"
   ]
  },
  {
   "cell_type": "code",
   "execution_count": 17,
   "metadata": {},
   "outputs": [
    {
     "data": {
      "text/plain": [
       "1.4290565829566904"
      ]
     },
     "execution_count": 17,
     "metadata": {},
     "output_type": "execute_result"
    }
   ],
   "source": [
    ".1010101 ^ 2.33333333 - (17/18/19/20/20) + 1. / (1. + 2. / (1. + 3. / (1. + 5.)))^.1010101 ^ 2.33333333 - (17/18/19/20/20) + 1. / (1. + 2. / (1. + 3. / (1. + 5.)))"
   ]
  },
  {
   "cell_type": "markdown",
   "metadata": {},
   "source": [
    "[Back to the top](#In-this-lecture)"
   ]
  }
 ],
 "metadata": {
  "kernelspec": {
   "display_name": "Julia 1.0.3",
   "language": "julia",
   "name": "julia-1.0"
  },
  "language_info": {
   "file_extension": ".jl",
   "mimetype": "application/julia",
   "name": "julia",
   "version": "1.0.3"
  }
 },
 "nbformat": 4,
 "nbformat_minor": 1
}
