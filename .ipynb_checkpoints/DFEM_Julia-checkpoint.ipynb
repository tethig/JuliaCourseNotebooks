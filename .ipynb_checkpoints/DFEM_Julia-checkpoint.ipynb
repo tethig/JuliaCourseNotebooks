{
 "cells": [
  {
   "cell_type": "markdown",
   "metadata": {},
   "source": [
    "# Julia Version of DFEM Simulation"
   ]
  },
  {
   "cell_type": "code",
   "execution_count": 2,
   "metadata": {},
   "outputs": [
    {
     "name": "stdout",
     "output_type": "stream",
     "text": [
      "This is a Julia-based simulation of evolution taking into account Gibbs Free Energy\n"
     ]
    }
   ],
   "source": [
    "println(\"This is a Julia-based simulation of evolution taking into account Gibbs Free Energy\")"
   ]
  },
  {
   "cell_type": "code",
   "execution_count": 3,
   "metadata": {
    "collapsed": true
   },
   "outputs": [
    {
     "data": {
      "text/plain": [
       "-5"
      ]
     },
     "execution_count": 3,
     "metadata": {},
     "output_type": "execute_result"
    }
   ],
   "source": [
    "# constants\n",
    "kt = float(0.001987204118 * (273.15+37))\n",
    "ddmean, ddstd = 1, 1.7\n",
    "\n",
    "# variables based on ϕX174\n",
    "Ud = 2.4 # non-synonymous mutations per genome per replication\n",
    "L = 0.1 # proportion of lethal mutations\n",
    "G = 10 # number of genes\n",
    "N = 1000 # carrying capacity\n",
    "R = 2 # effective burst size\n",
    "simlen = 200 # number of generations\n",
    "F = -5 # initial free energy of all proteins"
   ]
  },
  {
   "cell_type": "code",
   "execution_count": null,
   "metadata": {},
   "outputs": [],
   "source": []
  },
  {
   "cell_type": "code",
   "execution_count": null,
   "metadata": {},
   "outputs": [],
   "source": []
  }
 ],
 "metadata": {
  "kernelspec": {
   "display_name": "Julia 1.0.3",
   "language": "julia",
   "name": "julia-1.0"
  },
  "language_info": {
   "file_extension": ".jl",
   "mimetype": "application/julia",
   "name": "julia",
   "version": "1.0.3"
  }
 },
 "nbformat": 4,
 "nbformat_minor": 2
}
